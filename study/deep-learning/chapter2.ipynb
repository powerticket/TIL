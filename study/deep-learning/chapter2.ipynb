{
 "cells": [
  {
   "cell_type": "markdown",
   "id": "norman-attachment",
   "metadata": {},
   "source": [
    "# 퍼셉트론\n",
    "퍼셉트론이란"
   ]
  },
  {
   "cell_type": "markdown",
   "id": "civil-drove",
   "metadata": {},
   "source": [
    "# AND"
   ]
  },
  {
   "cell_type": "code",
   "execution_count": 1,
   "id": "indirect-links",
   "metadata": {},
   "outputs": [
    {
     "name": "stdout",
     "output_type": "stream",
     "text": [
      "0 0 False\n",
      "0 1 False\n",
      "1 0 False\n",
      "1 1 True\n"
     ]
    }
   ],
   "source": [
    "def AND(x1, x2):\n",
    "    w1, w2, theta = 0.5, 0.5, 0.7\n",
    "    tmp = x1 * w1 + x2 * w2\n",
    "    return tmp > theta\n",
    "\n",
    "print(0, 0, AND(0, 0))\n",
    "print(0, 1, AND(0, 1))\n",
    "print(1, 0, AND(1, 0))\n",
    "print(1, 1, AND(1, 1))"
   ]
  },
  {
   "cell_type": "markdown",
   "id": "similar-memorabilia",
   "metadata": {},
   "source": [
    "# OR"
   ]
  },
  {
   "cell_type": "code",
   "execution_count": 2,
   "id": "tender-johnson",
   "metadata": {},
   "outputs": [
    {
     "name": "stdout",
     "output_type": "stream",
     "text": [
      "0 0 False\n",
      "0 1 True\n",
      "1 0 True\n",
      "1 1 True\n"
     ]
    }
   ],
   "source": [
    "def OR(x1, x2):\n",
    "    w1, w2, theta = 0.5, 0.5, 0.49\n",
    "    tmp = x1 * w1 + x2 * w2\n",
    "    return tmp > theta\n",
    "\n",
    "print(0, 0, OR(0, 0))\n",
    "print(0, 1, OR(0, 1))\n",
    "print(1, 0, OR(1, 0))\n",
    "print(1, 1, OR(1, 1))"
   ]
  },
  {
   "cell_type": "markdown",
   "id": "adapted-poker",
   "metadata": {},
   "source": [
    "# AND, NAND, OR and NOR with NumPy"
   ]
  },
  {
   "cell_type": "code",
   "execution_count": 3,
   "id": "green-navigator",
   "metadata": {},
   "outputs": [
    {
     "name": "stdout",
     "output_type": "stream",
     "text": [
      "AND\n",
      "0 0 False\n",
      "0 1 False\n",
      "1 0 False\n",
      "1 1 True\n",
      "NAND\n",
      "0 0 True\n",
      "0 1 True\n",
      "1 0 True\n",
      "1 1 False\n",
      "OR\n",
      "0 0 False\n",
      "0 1 True\n",
      "1 0 True\n",
      "1 1 True\n",
      "NOR\n",
      "0 0 True\n",
      "0 1 False\n",
      "1 0 False\n",
      "1 1 False\n"
     ]
    }
   ],
   "source": [
    "import numpy as np\n",
    "\n",
    "\n",
    "def AND(x1, x2):\n",
    "    b = -0.5\n",
    "    w = np.array([0.5, 0.5])\n",
    "    x = np.array([x1, x2])\n",
    "    wx = w * x\n",
    "    result = np.sum(wx) + b\n",
    "    return result > 0\n",
    "\n",
    "def NAND(x1, x2):\n",
    "    b = 0.6\n",
    "    w = np.array([-0.5, -0.5])\n",
    "    x = np.array([x1, x2])\n",
    "    wx = w * x\n",
    "    result = np.sum(wx) + b\n",
    "    return result > 0\n",
    "\n",
    "def OR(x1, x2):\n",
    "    b = -0.4\n",
    "    w = np.array([0.5, 0.5])\n",
    "    x = np.array([x1, x2])\n",
    "    wx = w * x\n",
    "    result = np.sum(wx) + b\n",
    "    return result > 0\n",
    "\n",
    "def NOR(x1, x2):\n",
    "    b = 0.4\n",
    "    w = np.array([-0.5, -0.5])\n",
    "    x = np.array([x1, x2])\n",
    "    wx = w * x\n",
    "    result = np.sum(wx) + b\n",
    "    return result > 0\n",
    "\n",
    "print('AND')\n",
    "print(0, 0, AND(0, 0))\n",
    "print(0, 1, AND(0, 1))\n",
    "print(1, 0, AND(1, 0))\n",
    "print(1, 1, AND(1, 1))\n",
    "\n",
    "print('NAND')\n",
    "print(0, 0, NAND(0, 0))\n",
    "print(0, 1, NAND(0, 1))\n",
    "print(1, 0, NAND(1, 0))\n",
    "print(1, 1, NAND(1, 1))\n",
    "\n",
    "print('OR')\n",
    "print(0, 0, OR(0, 0))\n",
    "print(0, 1, OR(0, 1))\n",
    "print(1, 0, OR(1, 0))\n",
    "print(1, 1, OR(1, 1))\n",
    "\n",
    "print('NOR')\n",
    "print(0, 0, NOR(0, 0))\n",
    "print(0, 1, NOR(0, 1))\n",
    "print(1, 0, NOR(1, 0))\n",
    "print(1, 1, NOR(1, 1))"
   ]
  },
  {
   "cell_type": "markdown",
   "id": "unnecessary-magic",
   "metadata": {},
   "source": [
    "# XOR with AND, NAND, OR"
   ]
  },
  {
   "cell_type": "code",
   "execution_count": 4,
   "id": "hundred-lighting",
   "metadata": {},
   "outputs": [
    {
     "name": "stdout",
     "output_type": "stream",
     "text": [
      "NOR\n",
      "0 0 True\n",
      "0 1 False\n",
      "1 0 False\n",
      "1 1 False\n"
     ]
    }
   ],
   "source": [
    "def NOR(x1, x2):\n",
    "    b = 0.4\n",
    "    w = np.array([-0.5, -0.5])\n",
    "    x = np.array([x1, x2])\n",
    "    wx = w * x\n",
    "    result = np.sum(wx) + b\n",
    "    return result > 0\n",
    "\n",
    "print('NOR')\n",
    "print(0, 0, NOR(0, 0))\n",
    "print(0, 1, NOR(0, 1))\n",
    "print(1, 0, NOR(1, 0))\n",
    "print(1, 1, NOR(1, 1))"
   ]
  }
 ],
 "metadata": {
  "kernelspec": {
   "display_name": "Python 3",
   "language": "python",
   "name": "python3"
  },
  "language_info": {
   "codemirror_mode": {
    "name": "ipython",
    "version": 3
   },
   "file_extension": ".py",
   "mimetype": "text/x-python",
   "name": "python",
   "nbconvert_exporter": "python",
   "pygments_lexer": "ipython3",
   "version": "3.9.1"
  }
 },
 "nbformat": 4,
 "nbformat_minor": 5
}
